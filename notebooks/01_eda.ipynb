{
 "cells": [
  {
   "cell_type": "code",
   "metadata": {
    "ExecuteTime": {
     "end_time": "2025-03-11T12:06:40.284809Z",
     "start_time": "2025-03-11T12:06:39.825515Z"
    }
   },
   "source": [
    "import json\n",
    "import os\n",
    "import pandas as pd\n",
    "import requests"
   ],
   "outputs": [],
   "execution_count": 1
  },
  {
   "metadata": {
    "ExecuteTime": {
     "end_time": "2025-03-11T12:11:28.635968Z",
     "start_time": "2025-03-11T12:06:40.287915Z"
    }
   },
   "cell_type": "code",
   "source": [
    "directory = \"../data\"\n",
    "\n",
    "if not os.path.exists(directory):\n",
    "    os.makedirs(directory)\n",
    "\n",
    "# Define file URLs\n",
    "file_links = {\n",
    "    \"SCADA_Data.csv\": \"https://zenodo.org/records/8192149/files/Aventa_AV7_IET_OST_SCADA.csv?download=1\",\n",
    "    \"WT_Metadata.json\": \"https://zenodo.org/records/8192149/files/Aventa_AV_7_IET_OST_WT_metadata.json?download=1\",\n",
    "    \"SCADA_Channels_Metadata.csv\": \"https://zenodo.org/records/8192149/files/SCADA_Channels_Metadata.csv?download=1\"\n",
    "}\n",
    "\n",
    "# Download and save each file\n",
    "for filename, url in file_links.items():\n",
    "    response = requests.get(url)\n",
    "    if response.status_code == 200:\n",
    "        filepath = os.path.join(directory, filename)\n",
    "        with open(filepath, \"wb\") as file:\n",
    "            file.write(response.content)\n",
    "        print(f\"{filename} downloaded successfully!\")\n",
    "    else:\n",
    "        print(f\"Failed to download {filename}. Status Code: {response.status_code}\")\n"
   ],
   "outputs": [
    {
     "name": "stdout",
     "output_type": "stream",
     "text": [
      "SCADA_Data.csv downloaded successfully!\n",
      "WT_Metadata.json downloaded successfully!\n",
      "SCADA_Channels_Metadata.csv downloaded successfully!\n"
     ]
    }
   ],
   "execution_count": 2
  },
  {
   "cell_type": "code",
   "metadata": {
    "ExecuteTime": {
     "end_time": "2025-03-11T12:11:57.401498Z",
     "start_time": "2025-03-11T12:11:28.794277Z"
    }
   },
   "source": [
    "# Load SCADA Time Series Data\n",
    "scada_df = pd.read_csv(\"../data/SCADA_Data.csv\")\n",
    "print(\"SCADA Data Overview:\")\n",
    "print(scada_df.info())\n",
    "print(scada_df.head())\n"
   ],
   "outputs": [
    {
     "name": "stdout",
     "output_type": "stream",
     "text": [
      "SCADA Data Overview:\n",
      "<class 'pandas.core.frame.DataFrame'>\n",
      "RangeIndex: 39715978 entries, 0 to 39715977\n",
      "Data columns (total 11 columns):\n",
      " #   Column                Dtype  \n",
      "---  ------                -----  \n",
      " 0   Datetime              object \n",
      " 1   RotorSpeed            float64\n",
      " 2   GeneratorSpeed        float64\n",
      " 3   GeneratorTemperature  float64\n",
      " 4   WindSpeed             float64\n",
      " 5   PowerOutput           float64\n",
      " 6   SpeiseSpannung        float64\n",
      " 7   StatusAnlage          float64\n",
      " 8   MaxWindHeute          float64\n",
      " 9   offsetWindDirection   float64\n",
      " 10  PitchDeg              float64\n",
      "dtypes: float64(10), object(1)\n",
      "memory usage: 3.3+ GB\n",
      "None\n",
      "                  Datetime  RotorSpeed  GeneratorSpeed  GeneratorTemperature  \\\n",
      "0  2021-12-31 23:00:00.647         0.0             0.0                  11.6   \n",
      "1  2021-12-31 23:00:01.647         0.0             0.0                  11.6   \n",
      "2  2021-12-31 23:00:02.647         0.0             0.0                  11.6   \n",
      "3  2021-12-31 23:00:03.650         0.0             0.0                  11.6   \n",
      "4  2021-12-31 23:00:04.650         0.0             0.0                  11.6   \n",
      "\n",
      "   WindSpeed  PowerOutput  SpeiseSpannung  StatusAnlage  MaxWindHeute  \\\n",
      "0        0.0          0.0            27.8          13.0           0.0   \n",
      "1        0.0          0.0            27.8          13.0           0.0   \n",
      "2        0.0          0.0            27.8          13.0           0.0   \n",
      "3        0.0          0.0            27.8          13.0           0.0   \n",
      "4        0.0          0.0            27.8          13.0           0.0   \n",
      "\n",
      "   offsetWindDirection   PitchDeg  \n",
      "0                 21.0  80.313994  \n",
      "1                 13.0  80.313994  \n",
      "2                 12.0  80.313994  \n",
      "3                 12.0  80.313994  \n",
      "4                 12.0  80.313994  \n"
     ]
    }
   ],
   "execution_count": 3
  },
  {
   "metadata": {
    "ExecuteTime": {
     "end_time": "2025-03-11T12:11:57.737547Z",
     "start_time": "2025-03-11T12:11:57.725173Z"
    }
   },
   "cell_type": "code",
   "source": [
    "# Load SCADA Channels Metadata\n",
    "scada_meta_df = pd.read_csv(\"../data/SCADA_Channels_Metadata.csv\")\n",
    "print(\"\\nSCADA Channels Metadata Overview:\")\n",
    "print(scada_meta_df.info())\n",
    "print(scada_meta_df.head())\n"
   ],
   "outputs": [
    {
     "name": "stdout",
     "output_type": "stream",
     "text": [
      "\n",
      "SCADA Channels Metadata Overview:\n",
      "<class 'pandas.core.frame.DataFrame'>\n",
      "RangeIndex: 11 entries, 0 to 10\n",
      "Data columns (total 11 columns):\n",
      " #   Column                                    Non-Null Count  Dtype  \n",
      "---  ------                                    --------------  -----  \n",
      " 0   Internal Name                             11 non-null     object \n",
      " 1   IEC 61400-25 guideline name               11 non-null     object \n",
      " 2   ENTR Alliance name                        8 non-null      object \n",
      " 3   Description                               11 non-null     object \n",
      " 4   Notes                                     11 non-null     object \n",
      " 5   Reliable Measurement                      10 non-null     object \n",
      " 6   Units same as ENTR                        10 non-null     object \n",
      " 7   Unit (if different from ENTR)             2 non-null      object \n",
      " 8   RAW Signal (Bool)                         10 non-null     object \n",
      " 9   Unit conversion constant (if RAW signal)  0 non-null      float64\n",
      " 10  Frequency                                 10 non-null     object \n",
      "dtypes: float64(1), object(10)\n",
      "memory usage: 1.1+ KB\n",
      "None\n",
      "          Internal Name IEC 61400-25 guideline name ENTR Alliance name  \\\n",
      "0              Datetime                    dateTime                NaN   \n",
      "1            RotorSpeed                 WROT.RotSpd        WROT.RotSpd   \n",
      "2        GeneratorSpeed                 WGEN.RotSpd        WGEN.RotSpd   \n",
      "3  GeneratorTemperature                 WGEN.SttTmp        WGEN.SttTmp   \n",
      "4             WindSpeed               WMET.HorWdSpd      WMET.HorWdSpd   \n",
      "\n",
      "                                         Description  \\\n",
      "0  Measurement Date and Time in YYYY-MM-DD HH-MM-...   \n",
      "1                                 Rotor speed in RPM   \n",
      "2                             Generator speed in RPM   \n",
      "3                            Stator temperature in C   \n",
      "4                                   Windspeed in m/s   \n",
      "\n",
      "                                               Notes Reliable Measurement  \\\n",
      "0                                          UTC Time                   NaN   \n",
      "1                Reed sensor (inductive measurement)                 True   \n",
      "2  0-10V Signal from Generator (not an exact meas...                False   \n",
      "3                          Generator: SEG185-H-100 E                 True   \n",
      "4  Cup anemometer installed on nacelle, Sensor: T...                 True   \n",
      "\n",
      "  Units same as ENTR Unit (if different from ENTR) RAW Signal (Bool)  \\\n",
      "0                NaN                           NaN               NaN   \n",
      "1               True                           NaN             False   \n",
      "2               True                           NaN             False   \n",
      "3               True                           NaN             False   \n",
      "4               True                           NaN             False   \n",
      "\n",
      "   Unit conversion constant (if RAW signal) Frequency  \n",
      "0                                       NaN       NaN  \n",
      "1                                       NaN       1Hz  \n",
      "2                                       NaN       1Hz  \n",
      "3                                       NaN       1Hz  \n",
      "4                                       NaN       1Hz  \n"
     ]
    }
   ],
   "execution_count": 4
  },
  {
   "metadata": {
    "ExecuteTime": {
     "end_time": "2025-03-11T12:11:57.770976Z",
     "start_time": "2025-03-11T12:11:57.766559Z"
    }
   },
   "cell_type": "code",
   "source": [
    "# Load Wind Turbine Metadata (JSON)\n",
    "with open(\"../data/WT_Metadata.json\", \"r\") as file:\n",
    "    wt_metadata = json.load(file)\n",
    "\n",
    "print(\"\\nWind Turbine Metadata:\")\n",
    "print(json.dumps(wt_metadata, indent=4))  # Pretty-print JSON data\n"
   ],
   "outputs": [
    {
     "name": "stdout",
     "output_type": "stream",
     "text": [
      "\n",
      "Wind Turbine Metadata:\n",
      "{\n",
      "    \"name\": \"IET-OST Aventa Research Wind Turbibe\",\n",
      "    \"comments\": \"Aventa AV-7 Turbine model owned and operated by IET OST\",\n",
      "    \"assembly\": {\n",
      "        \"drivetrain\": \"belt_drive\",\n",
      "        \"rotor_orientation\": \"Upwind\",\n",
      "        \"number_of_blades\": 3,\n",
      "        \"hub_height\": 18.0,\n",
      "        \"rotor_diameter\": 12.9,\n",
      "        \"rated_power\": 6200.0\n",
      "    },\n",
      "    \"components\": {\n",
      "        \"blade\": {\n",
      "            \"system_mass\": 117.0\n",
      "        },\n",
      "        \"hub\": {\n",
      "            \"elastic_properties_mb\": {\n",
      "                \"system_mass\": 119,\n",
      "                \"system_inertia\": \"None\"\n",
      "            }\n",
      "        },\n",
      "        \"nacelle\": {\n",
      "            \"drivetrain\": {\n",
      "                \"gear_ratio\": 12.0\n",
      "            },\n",
      "            \"generator\": {\n",
      "                \"generator_type\": \"PMSG\"\n",
      "            }\n",
      "        },\n",
      "        \"tower\": {\n",
      "            \"system_mass\": 14600\n",
      "        },\n",
      "        \"foundation\": {\n",
      "            \"height\": 0\n",
      "        }\n",
      "    },\n",
      "    \"materials\": [\n",
      "        {\n",
      "            \"name\": \"concrete\",\n",
      "            \"description\": \"Concrete of the tower\",\n",
      "            \"orth\": 0,\n",
      "            \"E\": \"NaN\",\n",
      "            \"nu\": \"NaN\",\n",
      "            \"rho\": \"NaN\"\n",
      "        },\n",
      "        {\n",
      "            \"name\": \"steel\",\n",
      "            \"description\": \"Steel of the tower\",\n",
      "            \"orth\": 0,\n",
      "            \"rho\": \"NaN\",\n",
      "            \"E\": \"NaN\",\n",
      "            \"nu\": \"NaN\"\n",
      "        }\n",
      "    ],\n",
      "    \"control\": {\n",
      "        \"supervisory\": {\n",
      "            \"Vin\": 2.0,\n",
      "            \"Vout\": 12.0,\n",
      "            \"tsMax\": \"NaN\"\n",
      "        },\n",
      "        \"pitch\": {\n",
      "            \"max_pitch_rate\": \"NaN\"\n",
      "        },\n",
      "        \"torque\": {\n",
      "            \"tsr\": \"NaN\",\n",
      "            \"VS_minspd\": 0\n",
      "        }\n",
      "    }\n",
      "}\n"
     ]
    }
   ],
   "execution_count": 5
  },
  {
   "cell_type": "code",
   "metadata": {
    "ExecuteTime": {
     "end_time": "2025-03-11T12:12:00.651368Z",
     "start_time": "2025-03-11T12:11:57.790325Z"
    }
   },
   "source": [
    "# Check for missing values\n",
    "print(scada_df.isnull().sum())\n"
   ],
   "outputs": [
    {
     "name": "stdout",
     "output_type": "stream",
     "text": [
      "Datetime                0\n",
      "RotorSpeed              0\n",
      "GeneratorSpeed          0\n",
      "GeneratorTemperature    0\n",
      "WindSpeed               1\n",
      "PowerOutput             1\n",
      "SpeiseSpannung          0\n",
      "StatusAnlage            0\n",
      "MaxWindHeute            2\n",
      "offsetWindDirection     0\n",
      "PitchDeg                1\n",
      "dtype: int64\n"
     ]
    }
   ],
   "execution_count": 6
  },
  {
   "metadata": {
    "ExecuteTime": {
     "end_time": "2025-03-11T12:16:37.290563Z",
     "start_time": "2025-03-11T12:12:00.665111Z"
    }
   },
   "cell_type": "code",
   "source": [
    "# Check for duplicate rows\n",
    "print(f\"Duplicate rows: {scada_df.duplicated().sum()}\")\n"
   ],
   "outputs": [
    {
     "name": "stdout",
     "output_type": "stream",
     "text": [
      "Duplicate rows: 0\n"
     ]
    }
   ],
   "execution_count": 7
  },
  {
   "metadata": {
    "ExecuteTime": {
     "end_time": "2025-03-11T12:16:45.651816Z",
     "start_time": "2025-03-11T12:16:37.666550Z"
    }
   },
   "cell_type": "code",
   "source": [
    "# Check for unrealistic values\n",
    "print(scada_df.describe())\n"
   ],
   "outputs": [
    {
     "name": "stdout",
     "output_type": "stream",
     "text": [
      "         RotorSpeed  GeneratorSpeed  GeneratorTemperature     WindSpeed  \\\n",
      "count  3.971598e+07    3.971598e+07          3.971598e+07  3.971598e+07   \n",
      "mean   2.067616e+01    2.444918e+02          2.871725e+01  2.457526e+00   \n",
      "std    2.260638e+01    2.773169e+02          1.532112e+01  2.324517e+00   \n",
      "min    0.000000e+00    0.000000e+00         -9.510000e+01  0.000000e+00   \n",
      "25%    0.000000e+00    0.000000e+00          1.740000e+01  1.000000e+00   \n",
      "50%    1.060000e+01    0.000000e+00          2.680000e+01  1.900000e+00   \n",
      "75%    3.790000e+01    4.700000e+02          3.820000e+01  3.200000e+00   \n",
      "max    3.040000e+02    8.020000e+02          1.073000e+02  4.100000e+01   \n",
      "\n",
      "        PowerOutput  SpeiseSpannung  StatusAnlage  MaxWindHeute  \\\n",
      "count  3.971598e+07    3.971598e+07  3.971598e+07  3.971598e+07   \n",
      "mean   1.051422e+00    2.780072e+01  1.001604e+01  7.265652e+00   \n",
      "std    1.957080e+00    2.477404e-02  4.129103e+01  3.019539e+01   \n",
      "min   -2.200000e-01    0.000000e+00  0.000000e+00  0.000000e+00   \n",
      "25%    0.000000e+00    2.780000e+01  9.000000e+00  3.600000e+00   \n",
      "50%    0.000000e+00    2.780000e+01  1.000000e+01  5.700000e+00   \n",
      "75%    1.050000e+00    2.780000e+01  1.000000e+01  9.800000e+00   \n",
      "max    2.230000e+02    2.790000e+01  1.908840e+05  1.874680e+05   \n",
      "\n",
      "       offsetWindDirection      PitchDeg  \n",
      "count         3.971598e+07  3.971598e+07  \n",
      "mean         -5.174433e+00  3.227648e+01  \n",
      "std           4.173172e+01  2.142140e+01  \n",
      "min          -1.800000e+02  1.360799e+01  \n",
      "25%          -2.300000e+01  1.403400e+01  \n",
      "50%          -8.000000e+00  3.785894e+01  \n",
      "75%           9.000000e+00  3.819185e+01  \n",
      "max           1.810000e+02  8.352259e+01  \n"
     ]
    }
   ],
   "execution_count": 8
  },
  {
   "metadata": {
    "ExecuteTime": {
     "end_time": "2025-03-11T12:17:00.539168Z",
     "start_time": "2025-03-11T12:16:45.667241Z"
    }
   },
   "cell_type": "code",
   "source": [
    "# Check for gaps in timestamps\n",
    "scada_df[\"Datetime\"] = pd.to_datetime(scada_df[\"Datetime\"])\n",
    "scada_df = scada_df.sort_values(by=\"Datetime\")\n",
    "scada_df[\"Time_Gap\"] = scada_df[\"Datetime\"].diff().dt.total_seconds()\n",
    "print(scada_df[[\"Datetime\", \"Time_Gap\"]].describe())\n"
   ],
   "outputs": [
    {
     "name": "stdout",
     "output_type": "stream",
     "text": [
      "                            Datetime      Time_Gap\n",
      "count                       39715978  3.971598e+07\n",
      "mean   2022-10-09 10:25:25.027151360  1.231212e+00\n",
      "min       2021-12-31 23:00:00.647000  2.001000e-03\n",
      "25%    2022-05-03 04:27:30.703500032  9.980000e-01\n",
      "50%    2022-10-14 19:15:05.150000128  1.002000e+00\n",
      "75%    2023-03-22 07:45:13.121999872  1.005000e+00\n",
      "max       2023-07-20 21:59:59.577999  2.526915e+06\n",
      "std                              NaN  4.314126e+02\n"
     ]
    }
   ],
   "execution_count": 9
  },
  {
   "cell_type": "code",
   "metadata": {
    "ExecuteTime": {
     "end_time": "2025-03-11T12:18:18.165153Z",
     "start_time": "2025-03-11T12:17:00.572445Z"
    }
   },
   "source": [
    "# Convert Datetime to proper format\n",
    "scada_df[\"Datetime\"] = pd.to_datetime(scada_df[\"Datetime\"])\n",
    "\n",
    "# Step 1: Handle Missing Values (Interpolation)\n",
    "scada_df.interpolate(method=\"linear\", inplace=True)\n",
    "\n",
    "# Step 2: Clip/Filter Unrealistic Values\n",
    "# Define realistic thresholds based on known physical constraints\n",
    "scada_df[\"GeneratorTemperature\"] = scada_df[\"GeneratorTemperature\"].clip(lower=-30, upper=100)  # Fix sensor errors\n",
    "scada_df[\"WindSpeed\"] = scada_df[\"WindSpeed\"].clip(lower=0, upper=60)  # Wind speeds above 60m/s are rare\n",
    "scada_df[\"PowerOutput\"] = scada_df[\"PowerOutput\"].clip(lower=0)  # Negative power is unrealistic\n",
    "scada_df[\"MaxWindHeute\"] = scada_df[\"MaxWindHeute\"].clip(lower=0, upper=100)  # Remove extreme values\n",
    "\n",
    "# Step 3: Check for Time Gaps and Resample\n",
    "scada_df = scada_df.sort_values(by=\"Datetime\")\n",
    "scada_df.set_index(\"Datetime\", inplace=True)\n",
    "\n",
    "# Resample to 1-second intervals and interpolate missing time points\n",
    "scada_df = scada_df.resample(\"1s\").interpolate()\n"
   ],
   "outputs": [],
   "execution_count": 10
  },
  {
   "metadata": {
    "ExecuteTime": {
     "end_time": "2025-03-11T12:18:19.671870Z",
     "start_time": "2025-03-11T12:18:18.219977Z"
    }
   },
   "cell_type": "code",
   "source": [
    "# Check for missing values\n",
    "print(scada_df.isnull().sum())\n"
   ],
   "outputs": [
    {
     "name": "stdout",
     "output_type": "stream",
     "text": [
      "RotorSpeed              340\n",
      "GeneratorSpeed          340\n",
      "GeneratorTemperature    340\n",
      "WindSpeed               340\n",
      "PowerOutput             340\n",
      "SpeiseSpannung          340\n",
      "StatusAnlage            340\n",
      "MaxWindHeute            340\n",
      "offsetWindDirection     340\n",
      "PitchDeg                340\n",
      "Time_Gap                340\n",
      "dtype: int64\n"
     ]
    }
   ],
   "execution_count": 11
  },
  {
   "metadata": {
    "ExecuteTime": {
     "end_time": "2025-03-11T12:18:21.126218Z",
     "start_time": "2025-03-11T12:18:19.688371Z"
    }
   },
   "cell_type": "code",
   "source": [
    "# Get indices where any column has null values\n",
    "null_dates = scada_df[scada_df.isnull().any(axis=1)].index\n",
    "\n",
    "if not null_dates.empty:\n",
    "    # Convert Index to Series\n",
    "    null_dates_series = pd.Series(null_dates)\n",
    "\n",
    "    # Detect gaps in consecutive dates\n",
    "    gaps = null_dates_series.diff().gt(pd.Timedelta(days=1))\n",
    "\n",
    "    # Assign group numbers to consecutive periods\n",
    "    groups = gaps.cumsum()\n",
    "\n",
    "    # Group by the detected groups and find min/max for each period\n",
    "    date_ranges = null_dates_series.groupby(groups).agg([\"min\", \"max\"])\n",
    "\n",
    "    print(\"Null value date ranges:\")\n",
    "    print(date_ranges)\n",
    "else:\n",
    "    print(\"No null values found.\")\n"
   ],
   "outputs": [
    {
     "name": "stdout",
     "output_type": "stream",
     "text": [
      "Null value date ranges:\n",
      "                         min                 max\n",
      "Datetime                                        \n",
      "0        2021-12-31 23:00:00 2021-12-31 23:05:39\n"
     ]
    }
   ],
   "execution_count": 12
  },
  {
   "metadata": {
    "ExecuteTime": {
     "end_time": "2025-03-11T12:18:44.644426Z",
     "start_time": "2025-03-11T12:18:21.147672Z"
    }
   },
   "cell_type": "code",
   "source": [
    "# Filter out missing values\n",
    "scada_df = scada_df.dropna()\n",
    "\n",
    "# Save the cleaned dataset\n",
    "scada_df.to_parquet(\"../data/scada_df.parquet\")"
   ],
   "outputs": [],
   "execution_count": 13
  },
  {
   "metadata": {
    "ExecuteTime": {
     "end_time": "2025-03-11T12:18:59.595281Z",
     "start_time": "2025-03-11T12:18:44.688749Z"
    }
   },
   "cell_type": "code",
   "source": [
    "# Compute correlation matrix\n",
    "scada_df.corr()\n"
   ],
   "outputs": [
    {
     "data": {
      "text/plain": [
       "                      RotorSpeed  GeneratorSpeed  GeneratorTemperature  \\\n",
       "RotorSpeed              1.000000        0.995752              0.743425   \n",
       "GeneratorSpeed          0.995752        1.000000              0.741720   \n",
       "GeneratorTemperature    0.743425        0.741720              1.000000   \n",
       "WindSpeed               0.601629        0.551851              0.521667   \n",
       "PowerOutput             0.875971        0.859592              0.722567   \n",
       "SpeiseSpannung         -0.008064       -0.006947             -0.045568   \n",
       "StatusAnlage            0.024035        0.010861             -0.019094   \n",
       "MaxWindHeute            0.417882        0.383183              0.468056   \n",
       "offsetWindDirection     0.037283        0.035370              0.025447   \n",
       "PitchDeg               -0.629321       -0.667786             -0.497436   \n",
       "Time_Gap                0.205437        0.205549              0.061478   \n",
       "\n",
       "                      WindSpeed  PowerOutput  SpeiseSpannung  StatusAnlage  \\\n",
       "RotorSpeed             0.601629     0.875971       -0.008064      0.024035   \n",
       "GeneratorSpeed         0.551851     0.859592       -0.006947      0.010861   \n",
       "GeneratorTemperature   0.521667     0.722567       -0.045568     -0.019094   \n",
       "WindSpeed              1.000000     0.646100       -0.027396      0.166309   \n",
       "PowerOutput            0.646100     1.000000       -0.013826      0.011095   \n",
       "SpeiseSpannung        -0.027396    -0.013826        1.000000     -0.003266   \n",
       "StatusAnlage           0.166309     0.011095       -0.003266      1.000000   \n",
       "MaxWindHeute           0.685290     0.451572       -0.030997      0.202803   \n",
       "offsetWindDirection    0.000986     0.021784       -0.002038      0.007587   \n",
       "PitchDeg               0.018895    -0.390635       -0.018680      0.228166   \n",
       "Time_Gap               0.121791     0.227337        0.001607      0.255982   \n",
       "\n",
       "                      MaxWindHeute  offsetWindDirection  PitchDeg  Time_Gap  \n",
       "RotorSpeed                0.417882             0.037283 -0.629321  0.205437  \n",
       "GeneratorSpeed            0.383183             0.035370 -0.667786  0.205549  \n",
       "GeneratorTemperature      0.468056             0.025447 -0.497436  0.061478  \n",
       "WindSpeed                 0.685290             0.000986  0.018895  0.121791  \n",
       "PowerOutput               0.451572             0.021784 -0.390635  0.227337  \n",
       "SpeiseSpannung           -0.030997            -0.002038 -0.018680  0.001607  \n",
       "StatusAnlage              0.202803             0.007587  0.228166  0.255982  \n",
       "MaxWindHeute              1.000000             0.020806  0.050895  0.143493  \n",
       "offsetWindDirection       0.020806             1.000000  0.039583  0.010487  \n",
       "PitchDeg                  0.050895             0.039583  1.000000 -0.122595  \n",
       "Time_Gap                  0.143493             0.010487 -0.122595  1.000000  "
      ],
      "text/html": [
       "<div>\n",
       "<style scoped>\n",
       "    .dataframe tbody tr th:only-of-type {\n",
       "        vertical-align: middle;\n",
       "    }\n",
       "\n",
       "    .dataframe tbody tr th {\n",
       "        vertical-align: top;\n",
       "    }\n",
       "\n",
       "    .dataframe thead th {\n",
       "        text-align: right;\n",
       "    }\n",
       "</style>\n",
       "<table border=\"1\" class=\"dataframe\">\n",
       "  <thead>\n",
       "    <tr style=\"text-align: right;\">\n",
       "      <th></th>\n",
       "      <th>RotorSpeed</th>\n",
       "      <th>GeneratorSpeed</th>\n",
       "      <th>GeneratorTemperature</th>\n",
       "      <th>WindSpeed</th>\n",
       "      <th>PowerOutput</th>\n",
       "      <th>SpeiseSpannung</th>\n",
       "      <th>StatusAnlage</th>\n",
       "      <th>MaxWindHeute</th>\n",
       "      <th>offsetWindDirection</th>\n",
       "      <th>PitchDeg</th>\n",
       "      <th>Time_Gap</th>\n",
       "    </tr>\n",
       "  </thead>\n",
       "  <tbody>\n",
       "    <tr>\n",
       "      <th>RotorSpeed</th>\n",
       "      <td>1.000000</td>\n",
       "      <td>0.995752</td>\n",
       "      <td>0.743425</td>\n",
       "      <td>0.601629</td>\n",
       "      <td>0.875971</td>\n",
       "      <td>-0.008064</td>\n",
       "      <td>0.024035</td>\n",
       "      <td>0.417882</td>\n",
       "      <td>0.037283</td>\n",
       "      <td>-0.629321</td>\n",
       "      <td>0.205437</td>\n",
       "    </tr>\n",
       "    <tr>\n",
       "      <th>GeneratorSpeed</th>\n",
       "      <td>0.995752</td>\n",
       "      <td>1.000000</td>\n",
       "      <td>0.741720</td>\n",
       "      <td>0.551851</td>\n",
       "      <td>0.859592</td>\n",
       "      <td>-0.006947</td>\n",
       "      <td>0.010861</td>\n",
       "      <td>0.383183</td>\n",
       "      <td>0.035370</td>\n",
       "      <td>-0.667786</td>\n",
       "      <td>0.205549</td>\n",
       "    </tr>\n",
       "    <tr>\n",
       "      <th>GeneratorTemperature</th>\n",
       "      <td>0.743425</td>\n",
       "      <td>0.741720</td>\n",
       "      <td>1.000000</td>\n",
       "      <td>0.521667</td>\n",
       "      <td>0.722567</td>\n",
       "      <td>-0.045568</td>\n",
       "      <td>-0.019094</td>\n",
       "      <td>0.468056</td>\n",
       "      <td>0.025447</td>\n",
       "      <td>-0.497436</td>\n",
       "      <td>0.061478</td>\n",
       "    </tr>\n",
       "    <tr>\n",
       "      <th>WindSpeed</th>\n",
       "      <td>0.601629</td>\n",
       "      <td>0.551851</td>\n",
       "      <td>0.521667</td>\n",
       "      <td>1.000000</td>\n",
       "      <td>0.646100</td>\n",
       "      <td>-0.027396</td>\n",
       "      <td>0.166309</td>\n",
       "      <td>0.685290</td>\n",
       "      <td>0.000986</td>\n",
       "      <td>0.018895</td>\n",
       "      <td>0.121791</td>\n",
       "    </tr>\n",
       "    <tr>\n",
       "      <th>PowerOutput</th>\n",
       "      <td>0.875971</td>\n",
       "      <td>0.859592</td>\n",
       "      <td>0.722567</td>\n",
       "      <td>0.646100</td>\n",
       "      <td>1.000000</td>\n",
       "      <td>-0.013826</td>\n",
       "      <td>0.011095</td>\n",
       "      <td>0.451572</td>\n",
       "      <td>0.021784</td>\n",
       "      <td>-0.390635</td>\n",
       "      <td>0.227337</td>\n",
       "    </tr>\n",
       "    <tr>\n",
       "      <th>SpeiseSpannung</th>\n",
       "      <td>-0.008064</td>\n",
       "      <td>-0.006947</td>\n",
       "      <td>-0.045568</td>\n",
       "      <td>-0.027396</td>\n",
       "      <td>-0.013826</td>\n",
       "      <td>1.000000</td>\n",
       "      <td>-0.003266</td>\n",
       "      <td>-0.030997</td>\n",
       "      <td>-0.002038</td>\n",
       "      <td>-0.018680</td>\n",
       "      <td>0.001607</td>\n",
       "    </tr>\n",
       "    <tr>\n",
       "      <th>StatusAnlage</th>\n",
       "      <td>0.024035</td>\n",
       "      <td>0.010861</td>\n",
       "      <td>-0.019094</td>\n",
       "      <td>0.166309</td>\n",
       "      <td>0.011095</td>\n",
       "      <td>-0.003266</td>\n",
       "      <td>1.000000</td>\n",
       "      <td>0.202803</td>\n",
       "      <td>0.007587</td>\n",
       "      <td>0.228166</td>\n",
       "      <td>0.255982</td>\n",
       "    </tr>\n",
       "    <tr>\n",
       "      <th>MaxWindHeute</th>\n",
       "      <td>0.417882</td>\n",
       "      <td>0.383183</td>\n",
       "      <td>0.468056</td>\n",
       "      <td>0.685290</td>\n",
       "      <td>0.451572</td>\n",
       "      <td>-0.030997</td>\n",
       "      <td>0.202803</td>\n",
       "      <td>1.000000</td>\n",
       "      <td>0.020806</td>\n",
       "      <td>0.050895</td>\n",
       "      <td>0.143493</td>\n",
       "    </tr>\n",
       "    <tr>\n",
       "      <th>offsetWindDirection</th>\n",
       "      <td>0.037283</td>\n",
       "      <td>0.035370</td>\n",
       "      <td>0.025447</td>\n",
       "      <td>0.000986</td>\n",
       "      <td>0.021784</td>\n",
       "      <td>-0.002038</td>\n",
       "      <td>0.007587</td>\n",
       "      <td>0.020806</td>\n",
       "      <td>1.000000</td>\n",
       "      <td>0.039583</td>\n",
       "      <td>0.010487</td>\n",
       "    </tr>\n",
       "    <tr>\n",
       "      <th>PitchDeg</th>\n",
       "      <td>-0.629321</td>\n",
       "      <td>-0.667786</td>\n",
       "      <td>-0.497436</td>\n",
       "      <td>0.018895</td>\n",
       "      <td>-0.390635</td>\n",
       "      <td>-0.018680</td>\n",
       "      <td>0.228166</td>\n",
       "      <td>0.050895</td>\n",
       "      <td>0.039583</td>\n",
       "      <td>1.000000</td>\n",
       "      <td>-0.122595</td>\n",
       "    </tr>\n",
       "    <tr>\n",
       "      <th>Time_Gap</th>\n",
       "      <td>0.205437</td>\n",
       "      <td>0.205549</td>\n",
       "      <td>0.061478</td>\n",
       "      <td>0.121791</td>\n",
       "      <td>0.227337</td>\n",
       "      <td>0.001607</td>\n",
       "      <td>0.255982</td>\n",
       "      <td>0.143493</td>\n",
       "      <td>0.010487</td>\n",
       "      <td>-0.122595</td>\n",
       "      <td>1.000000</td>\n",
       "    </tr>\n",
       "  </tbody>\n",
       "</table>\n",
       "</div>"
      ]
     },
     "execution_count": 14,
     "metadata": {},
     "output_type": "execute_result"
    }
   ],
   "execution_count": 14
  },
  {
   "metadata": {
    "ExecuteTime": {
     "end_time": "2025-03-11T12:19:20.912545Z",
     "start_time": "2025-03-11T12:18:59.628710Z"
    }
   },
   "cell_type": "code",
   "source": [
    "# Check for unrealistic values\n",
    "print(scada_df.describe())\n"
   ],
   "outputs": [
    {
     "name": "stdout",
     "output_type": "stream",
     "text": [
      "         RotorSpeed  GeneratorSpeed  GeneratorTemperature     WindSpeed  \\\n",
      "count  4.889846e+07    4.889846e+07          4.889846e+07  4.889846e+07   \n",
      "mean   2.108908e+01    2.503695e+02          2.921964e+01  2.524658e+00   \n",
      "std    2.194295e+01    2.680847e+02          1.503987e+01  2.155790e+00   \n",
      "min    0.000000e+00    0.000000e+00         -5.000000e-01  0.000000e+00   \n",
      "25%    0.000000e+00    0.000000e+00          1.797773e+01  1.076549e+00   \n",
      "50%    1.445758e+01    1.673869e+02          2.843609e+01  2.052662e+00   \n",
      "75%    3.790036e+01    4.685992e+02          3.830000e+01  3.351751e+00   \n",
      "max    6.840000e+01    7.910000e+02          8.240000e+01  2.630000e+01   \n",
      "\n",
      "        PowerOutput  SpeiseSpannung  StatusAnlage  MaxWindHeute  \\\n",
      "count  4.889846e+07    4.889846e+07  4.889846e+07  4.889846e+07   \n",
      "mean   1.116589e+00    2.780074e+01  1.008520e+01  7.435837e+00   \n",
      "std    1.893313e+00    1.819512e-02  3.006374e+00  5.002596e+00   \n",
      "min    0.000000e+00    2.410000e+01  0.000000e+00  0.000000e+00   \n",
      "25%    0.000000e+00    2.780000e+01  9.000000e+00  3.800000e+00   \n",
      "50%    8.441317e-02    2.780000e+01  1.000000e+01  6.234179e+00   \n",
      "75%    1.313887e+00    2.780000e+01  1.000000e+01  9.900000e+00   \n",
      "max    6.960000e+00    2.790000e+01  1.000000e+02  3.950000e+01   \n",
      "\n",
      "       offsetWindDirection      PitchDeg      Time_Gap  \n",
      "count         4.889846e+07  4.889846e+07  4.889846e+07  \n",
      "mean         -6.818543e+00  3.133323e+01  1.615811e+00  \n",
      "std           3.546908e+01  1.973034e+01  2.323544e+00  \n",
      "min          -1.800000e+02  1.403400e+01  2.830000e-01  \n",
      "25%          -1.990305e+01  1.403400e+01  9.998148e-01  \n",
      "50%          -7.479610e+00  2.793837e+01  1.003000e+00  \n",
      "75%           6.508217e+00  3.819185e+01  1.006038e+00  \n",
      "max           1.800000e+02  8.110525e+01  2.404300e+01  \n"
     ]
    }
   ],
   "execution_count": 15
  }
 ],
 "metadata": {
  "kernelspec": {
   "display_name": "myenv",
   "language": "python",
   "name": "python3"
  },
  "language_info": {
   "codemirror_mode": {
    "name": "ipython",
    "version": 3
   },
   "file_extension": ".py",
   "mimetype": "text/x-python",
   "name": "python",
   "nbconvert_exporter": "python",
   "pygments_lexer": "ipython3",
   "version": "3.13.0"
  },
  "orig_nbformat": 4
 },
 "nbformat": 4,
 "nbformat_minor": 2
}
